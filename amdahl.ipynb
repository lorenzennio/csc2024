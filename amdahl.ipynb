{
 "cells": [
  {
   "cell_type": "code",
   "execution_count": 1,
   "metadata": {},
   "outputs": [],
   "source": [
    "def speedup(n, p):\n",
    "    return 1/((1 - p) + p/n)"
   ]
  },
  {
   "cell_type": "code",
   "execution_count": 11,
   "metadata": {},
   "outputs": [
    {
     "name": "stdout",
     "output_type": "stream",
     "text": [
      "Speedup for n = 8:  1.04\n",
      "Speedup for n = 200:  1.0815307820299502\n"
     ]
    }
   ],
   "source": [
    "print(\"Speedup for n = 8: \", speedup(8, 0.25) / speedup(4, 0.25))\n",
    "print(\"Speedup for n = 200: \", speedup(200, 0.25) / speedup(4, 0.25))"
   ]
  },
  {
   "cell_type": "code",
   "execution_count": 12,
   "metadata": {},
   "outputs": [
    {
     "name": "stdout",
     "output_type": "stream",
     "text": [
      "Speedup for n = 4:  1.0483870967741937\n"
     ]
    }
   ],
   "source": [
    "print(\"Speedup for n = 4: \", speedup(4, 0.30) / speedup(4, 0.25))"
   ]
  },
  {
   "cell_type": "code",
   "execution_count": null,
   "metadata": {},
   "outputs": [],
   "source": []
  }
 ],
 "metadata": {
  "kernelspec": {
   "display_name": ".csc",
   "language": "python",
   "name": "python3"
  },
  "language_info": {
   "codemirror_mode": {
    "name": "ipython",
    "version": 3
   },
   "file_extension": ".py",
   "mimetype": "text/x-python",
   "name": "python",
   "nbconvert_exporter": "python",
   "pygments_lexer": "ipython3",
   "version": "3.10.12"
  }
 },
 "nbformat": 4,
 "nbformat_minor": 2
}
